{
 "cells": [
  {
   "cell_type": "code",
   "execution_count": 1,
   "id": "7eae3611",
   "metadata": {},
   "outputs": [],
   "source": [
    "import numpy as np"
   ]
  },
  {
   "cell_type": "code",
   "execution_count": 2,
   "id": "9d10c5a2",
   "metadata": {},
   "outputs": [
    {
     "data": {
      "text/plain": [
       "array([[0, 0],\n",
       "       [0, 1],\n",
       "       [1, 1],\n",
       "       [1, 0]])"
      ]
     },
     "execution_count": 2,
     "metadata": {},
     "output_type": "execute_result"
    }
   ],
   "source": [
    "#assign input values\n",
    "input_value = np.array([[0,0],[0,1],[1,1],[1,0]])\n",
    "input_value.shape\n",
    "input_value"
   ]
  },
  {
   "cell_type": "code",
   "execution_count": 3,
   "id": "f2acd405",
   "metadata": {},
   "outputs": [
    {
     "data": {
      "text/plain": [
       "(4, 1)"
      ]
     },
     "execution_count": 3,
     "metadata": {},
     "output_type": "execute_result"
    }
   ],
   "source": [
    "#assign output values\n",
    "output=np.array([0,1,1,0])\n",
    "output=output.reshape(4,1)\n",
    "output.shape"
   ]
  },
  {
   "cell_type": "code",
   "execution_count": 4,
   "id": "aa325b44",
   "metadata": {},
   "outputs": [
    {
     "data": {
      "text/plain": [
       "array([[0.1],\n",
       "       [0.2]])"
      ]
     },
     "execution_count": 4,
     "metadata": {},
     "output_type": "execute_result"
    }
   ],
   "source": [
    "#assign weights\n",
    "weigths=np.array([[0.1],[0.2]])\n",
    "weigths"
   ]
  },
  {
   "cell_type": "code",
   "execution_count": 5,
   "id": "0d04a0e2",
   "metadata": {},
   "outputs": [],
   "source": [
    "#assign bias\n",
    "bias=0.3"
   ]
  },
  {
   "cell_type": "code",
   "execution_count": 6,
   "id": "7f81c40e",
   "metadata": {},
   "outputs": [],
   "source": [
    "#Activation function\n",
    "def sigmoid_func(x):\n",
    "    return 1/(1 + np.exp(-x))"
   ]
  },
  {
   "cell_type": "code",
   "execution_count": 7,
   "id": "7494a438",
   "metadata": {},
   "outputs": [],
   "source": [
    "#Derivative of Sigmoid function\n",
    "def der(x):\n",
    "    return sigmoid_func(x) * (1- sigmoid_func(x))"
   ]
  },
  {
   "cell_type": "code",
   "execution_count": 8,
   "id": "1ce937c1",
   "metadata": {},
   "outputs": [],
   "source": [
    "#Updating weigths\n",
    "for epochs in range(10000):\n",
    "    input_arr = input_value\n",
    "    \n",
    "    weighted_sum=np.dot(input_arr, weigths) + bias\n",
    "    first_output=sigmoid_func(weighted_sum)\n",
    "    \n",
    "    error =first_output - output\n",
    "    total_error=np.square(np.subtract(first_output,output)).mean()\n",
    "    \n",
    "    first_der = error\n",
    "    second_der = der(first_output)\n",
    "    derivative = first_der * second_der\n",
    "    \n",
    "    t_input = input_value.T\n",
    "    final_derivative = np.dot(t_input, derivative)\n",
    "    \n",
    "    #update weights\n",
    "    weigths = weigths - 0.05 * final_derivative\n",
    "    \n",
    "    #update bias\n",
    "    for i in derivative:\n",
    "        bias = bias - 0.05 * i"
   ]
  },
  {
   "cell_type": "code",
   "execution_count": 9,
   "id": "eedba586",
   "metadata": {},
   "outputs": [
    {
     "name": "stdout",
     "output_type": "stream",
     "text": [
      "[[-0.41953547]\n",
      " [ 8.98887811]]\n"
     ]
    }
   ],
   "source": [
    "print(weigths)"
   ]
  },
  {
   "cell_type": "code",
   "execution_count": 10,
   "id": "88ee179b",
   "metadata": {},
   "outputs": [
    {
     "name": "stdout",
     "output_type": "stream",
     "text": [
      "[-4.19706344]\n"
     ]
    }
   ],
   "source": [
    "print(bias)"
   ]
  },
  {
   "cell_type": "code",
   "execution_count": 11,
   "id": "7500e31a",
   "metadata": {},
   "outputs": [
    {
     "name": "stdout",
     "output_type": "stream",
     "text": [
      "[0.99177089]\n"
     ]
    }
   ],
   "source": [
    "pred = np.array([0,1])\n",
    "result = np.dot(pred, weigths) + bias\n",
    "\n",
    "res = sigmoid_func(result)\n",
    "\n",
    "print(res)"
   ]
  },
  {
   "cell_type": "code",
   "execution_count": null,
   "id": "8339b1cb",
   "metadata": {},
   "outputs": [],
   "source": []
  }
 ],
 "metadata": {
  "kernelspec": {
   "display_name": "Python 3 (ipykernel)",
   "language": "python",
   "name": "python3"
  },
  "language_info": {
   "codemirror_mode": {
    "name": "ipython",
    "version": 3
   },
   "file_extension": ".py",
   "mimetype": "text/x-python",
   "name": "python",
   "nbconvert_exporter": "python",
   "pygments_lexer": "ipython3",
   "version": "3.9.12"
  }
 },
 "nbformat": 4,
 "nbformat_minor": 5
}
